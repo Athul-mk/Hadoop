{
  "nbformat": 4,
  "nbformat_minor": 0,
  "metadata": {
    "colab": {
      "provenance": [],
      "gpuType": "T4"
    },
    "kernelspec": {
      "name": "python3",
      "display_name": "Python 3"
    },
    "language_info": {
      "name": "python"
    },
    "accelerator": "GPU"
  },
  "cells": [
    {
      "cell_type": "code",
      "execution_count": 1,
      "metadata": {
        "id": "HLipcJQ9W4Ph",
        "colab": {
          "base_uri": "https://localhost:8080/"
        },
        "outputId": "cf15f331-3bd4-40bf-8a02-c135f89d6e76"
      },
      "outputs": [
        {
          "output_type": "stream",
          "name": "stdout",
          "text": [
            "\u001b[2K     \u001b[90m━━━━━━━━━━━━━━━━━━━━━━━━━━━━━━━━━━━━━━━━\u001b[0m \u001b[32m316.9/316.9 MB\u001b[0m \u001b[31m1.4 MB/s\u001b[0m eta \u001b[36m0:00:00\u001b[0m\n",
            "\u001b[?25h  Preparing metadata (setup.py) ... \u001b[?25l\u001b[?25hdone\n",
            "  Building wheel for pyspark (setup.py) ... \u001b[?25l\u001b[?25hdone\n"
          ]
        }
      ],
      "source": [
        "pip install pyspark --quiet"
      ]
    },
    {
      "cell_type": "code",
      "source": [
        "from google.colab import drive\n",
        "drive.mount('/content/drive')"
      ],
      "metadata": {
        "id": "PjQMJ4aA8zQb",
        "colab": {
          "base_uri": "https://localhost:8080/"
        },
        "outputId": "efbdbb8a-a62d-433d-a8b2-430ad90249e6"
      },
      "execution_count": 3,
      "outputs": [
        {
          "output_type": "stream",
          "name": "stdout",
          "text": [
            "Drive already mounted at /content/drive; to attempt to forcibly remount, call drive.mount(\"/content/drive\", force_remount=True).\n"
          ]
        }
      ]
    },
    {
      "cell_type": "code",
      "source": [
        "import numpy as np\n",
        "import pandas as pd\n",
        "import pyspark\n",
        "from pyspark.sql import SparkSession\n",
        "from pyspark.ml.classification import DecisionTreeClassifier,RandomForestClassifier,NaiveBayes\n",
        "from pyspark.ml.evaluation import MulticlassClassificationEvaluator\n",
        "from pyspark.ml.feature import StringIndexer,StandardScaler,VectorAssembler,VectorIndexer\n",
        "from pyspark.ml.linalg import DenseVector\n",
        "import sklearn\n",
        "import gc\n",
        "from sklearn.model_selection import train_test_split\n"
      ],
      "metadata": {
        "id": "xFHS56sWXDAq"
      },
      "execution_count": 4,
      "outputs": []
    },
    {
      "cell_type": "code",
      "source": [
        "spark=(SparkSession.builder\n",
        "       .appName('Apache Spark Tutorial')\n",
        "       .config('spark.executor.memory','1G')\n",
        "       .config('spark.executor.cores','4')\n",
        "       .getOrCreate())\n",
        "spark"
      ],
      "metadata": {
        "id": "oWOgEM51ZGS2",
        "colab": {
          "base_uri": "https://localhost:8080/",
          "height": 221
        },
        "outputId": "57102627-dd83-4f43-f375-6da4a3f6bcb0"
      },
      "execution_count": 5,
      "outputs": [
        {
          "output_type": "execute_result",
          "data": {
            "text/plain": [
              "<pyspark.sql.session.SparkSession at 0x7ed68a7ee110>"
            ],
            "text/html": [
              "\n",
              "            <div>\n",
              "                <p><b>SparkSession - in-memory</b></p>\n",
              "                \n",
              "        <div>\n",
              "            <p><b>SparkContext</b></p>\n",
              "\n",
              "            <p><a href=\"http://f143d01c1472:4040\">Spark UI</a></p>\n",
              "\n",
              "            <dl>\n",
              "              <dt>Version</dt>\n",
              "                <dd><code>v3.5.0</code></dd>\n",
              "              <dt>Master</dt>\n",
              "                <dd><code>local[*]</code></dd>\n",
              "              <dt>AppName</dt>\n",
              "                <dd><code>Apache Spark Tutorial</code></dd>\n",
              "            </dl>\n",
              "        </div>\n",
              "        \n",
              "            </div>\n",
              "        "
            ]
          },
          "metadata": {},
          "execution_count": 5
        }
      ]
    },
    {
      "cell_type": "code",
      "source": [
        "spark.sparkContext.setLogLevel('Info')"
      ],
      "metadata": {
        "id": "I6x2WtuwaOdQ"
      },
      "execution_count": 6,
      "outputs": []
    },
    {
      "cell_type": "code",
      "source": [
        "spark.version"
      ],
      "metadata": {
        "id": "y0yLSvlAbAM3",
        "colab": {
          "base_uri": "https://localhost:8080/",
          "height": 35
        },
        "outputId": "dfaf9aa8-e3a7-4496-837b-5657feac0b08"
      },
      "execution_count": 7,
      "outputs": [
        {
          "output_type": "execute_result",
          "data": {
            "text/plain": [
              "'3.5.0'"
            ],
            "application/vnd.google.colaboratory.intrinsic+json": {
              "type": "string"
            }
          },
          "metadata": {},
          "execution_count": 7
        }
      ]
    },
    {
      "cell_type": "code",
      "source": [
        "url=('/content/drive/MyDrive/iris.xls')\n",
        "data=spark.read.format('csv')\\\n",
        "      .option('header','true')\\\n",
        "      .option('inferSchema','true')\\\n",
        "      .load(url)\n",
        "data.cache()"
      ],
      "metadata": {
        "id": "EAr1CW99bFWK",
        "colab": {
          "base_uri": "https://localhost:8080/"
        },
        "outputId": "9b583794-9687-43db-9b1a-d6fbb06cc176"
      },
      "execution_count": 8,
      "outputs": [
        {
          "output_type": "execute_result",
          "data": {
            "text/plain": [
              "DataFrame[sepal_length: double, sepal_width: double, petal_length: double, petal_width: double, species: string]"
            ]
          },
          "metadata": {},
          "execution_count": 8
        }
      ]
    },
    {
      "cell_type": "code",
      "source": [
        "data.show(5)"
      ],
      "metadata": {
        "id": "E_5USJ2tb9b8",
        "colab": {
          "base_uri": "https://localhost:8080/"
        },
        "outputId": "d2f3b406-5590-414f-f5fb-292797a3395d"
      },
      "execution_count": 9,
      "outputs": [
        {
          "output_type": "stream",
          "name": "stdout",
          "text": [
            "+------------+-----------+------------+-----------+-------+\n",
            "|sepal_length|sepal_width|petal_length|petal_width|species|\n",
            "+------------+-----------+------------+-----------+-------+\n",
            "|         5.1|        3.5|         1.4|        0.2| setosa|\n",
            "|         4.9|        3.0|         1.4|        0.2| setosa|\n",
            "|         4.7|        3.2|         1.3|        0.2| setosa|\n",
            "|         4.6|        3.1|         1.5|        0.2| setosa|\n",
            "|         5.0|        3.6|         1.4|        0.2| setosa|\n",
            "+------------+-----------+------------+-----------+-------+\n",
            "only showing top 5 rows\n",
            "\n"
          ]
        }
      ]
    },
    {
      "cell_type": "code",
      "source": [
        "data.head(5)"
      ],
      "metadata": {
        "id": "XY1UZsbqcKw_",
        "colab": {
          "base_uri": "https://localhost:8080/"
        },
        "outputId": "78c049be-5f29-4577-f776-36d63a0f027c"
      },
      "execution_count": 10,
      "outputs": [
        {
          "output_type": "execute_result",
          "data": {
            "text/plain": [
              "[Row(sepal_length=5.1, sepal_width=3.5, petal_length=1.4, petal_width=0.2, species='setosa'),\n",
              " Row(sepal_length=4.9, sepal_width=3.0, petal_length=1.4, petal_width=0.2, species='setosa'),\n",
              " Row(sepal_length=4.7, sepal_width=3.2, petal_length=1.3, petal_width=0.2, species='setosa'),\n",
              " Row(sepal_length=4.6, sepal_width=3.1, petal_length=1.5, petal_width=0.2, species='setosa'),\n",
              " Row(sepal_length=5.0, sepal_width=3.6, petal_length=1.4, petal_width=0.2, species='setosa')]"
            ]
          },
          "metadata": {},
          "execution_count": 10
        }
      ]
    },
    {
      "cell_type": "code",
      "source": [
        "data.count()"
      ],
      "metadata": {
        "id": "I0cPURkLcQs3",
        "colab": {
          "base_uri": "https://localhost:8080/"
        },
        "outputId": "93a04e07-0506-4980-a149-922b65dbfff2"
      },
      "execution_count": 11,
      "outputs": [
        {
          "output_type": "execute_result",
          "data": {
            "text/plain": [
              "150"
            ]
          },
          "metadata": {},
          "execution_count": 11
        }
      ]
    },
    {
      "cell_type": "code",
      "source": [
        "data.printSchema()"
      ],
      "metadata": {
        "id": "pgDA0CNDcVi2",
        "colab": {
          "base_uri": "https://localhost:8080/"
        },
        "outputId": "abb5a951-0907-445e-f91e-f599144bd6b6"
      },
      "execution_count": 12,
      "outputs": [
        {
          "output_type": "stream",
          "name": "stdout",
          "text": [
            "root\n",
            " |-- sepal_length: double (nullable = true)\n",
            " |-- sepal_width: double (nullable = true)\n",
            " |-- petal_length: double (nullable = true)\n",
            " |-- petal_width: double (nullable = true)\n",
            " |-- species: string (nullable = true)\n",
            "\n"
          ]
        }
      ]
    },
    {
      "cell_type": "code",
      "source": [
        "data.groupBy('species').count().show()"
      ],
      "metadata": {
        "id": "Ig3iYPAicdMj",
        "colab": {
          "base_uri": "https://localhost:8080/"
        },
        "outputId": "a4e8b0ce-1103-4729-d2fd-793b7b5dcde8"
      },
      "execution_count": 13,
      "outputs": [
        {
          "output_type": "stream",
          "name": "stdout",
          "text": [
            "+----------+-----+\n",
            "|   species|count|\n",
            "+----------+-----+\n",
            "| virginica|   50|\n",
            "|versicolor|   50|\n",
            "|    setosa|   50|\n",
            "+----------+-----+\n",
            "\n"
          ]
        }
      ]
    },
    {
      "cell_type": "code",
      "source": [
        "data.describe().show()"
      ],
      "metadata": {
        "id": "qvBt52oPc34K",
        "colab": {
          "base_uri": "https://localhost:8080/"
        },
        "outputId": "655181fe-1b8a-4537-8d7c-b55e2e6f4387"
      },
      "execution_count": 14,
      "outputs": [
        {
          "output_type": "stream",
          "name": "stdout",
          "text": [
            "+-------+------------------+-------------------+------------------+------------------+---------+\n",
            "|summary|      sepal_length|        sepal_width|      petal_length|       petal_width|  species|\n",
            "+-------+------------------+-------------------+------------------+------------------+---------+\n",
            "|  count|               150|                150|               150|               150|      150|\n",
            "|   mean| 5.843333333333335| 3.0540000000000007|3.7586666666666693|1.1986666666666672|     NULL|\n",
            "| stddev|0.8280661279778637|0.43359431136217375| 1.764420419952262|0.7631607417008414|     NULL|\n",
            "|    min|               4.3|                2.0|               1.0|               0.1|   setosa|\n",
            "|    max|               7.9|                4.4|               6.9|               2.5|virginica|\n",
            "+-------+------------------+-------------------+------------------+------------------+---------+\n",
            "\n"
          ]
        }
      ]
    },
    {
      "cell_type": "code",
      "source": [
        "SIndexer=StringIndexer(inputCol='species',outputCol='species index')\n",
        "data=SIndexer.fit(data).transform(data)\n",
        "data.show(5)"
      ],
      "metadata": {
        "id": "qkMZ0_8mc9Lb",
        "colab": {
          "base_uri": "https://localhost:8080/"
        },
        "outputId": "d0b849b3-660d-4180-a66e-9834f0b12bcf"
      },
      "execution_count": 15,
      "outputs": [
        {
          "output_type": "stream",
          "name": "stdout",
          "text": [
            "+------------+-----------+------------+-----------+-------+-------------+\n",
            "|sepal_length|sepal_width|petal_length|petal_width|species|species index|\n",
            "+------------+-----------+------------+-----------+-------+-------------+\n",
            "|         5.1|        3.5|         1.4|        0.2| setosa|          0.0|\n",
            "|         4.9|        3.0|         1.4|        0.2| setosa|          0.0|\n",
            "|         4.7|        3.2|         1.3|        0.2| setosa|          0.0|\n",
            "|         4.6|        3.1|         1.5|        0.2| setosa|          0.0|\n",
            "|         5.0|        3.6|         1.4|        0.2| setosa|          0.0|\n",
            "+------------+-----------+------------+-----------+-------+-------------+\n",
            "only showing top 5 rows\n",
            "\n"
          ]
        }
      ]
    },
    {
      "cell_type": "code",
      "source": [
        "data1=data.select('species index','sepal_length','sepal_width','petal_length','petal_width')\n",
        "data1.show(5)"
      ],
      "metadata": {
        "id": "WUrE4PmPdpGB",
        "colab": {
          "base_uri": "https://localhost:8080/"
        },
        "outputId": "ee7410c9-db53-4935-c3d8-874ce4ddf822"
      },
      "execution_count": 16,
      "outputs": [
        {
          "output_type": "stream",
          "name": "stdout",
          "text": [
            "+-------------+------------+-----------+------------+-----------+\n",
            "|species index|sepal_length|sepal_width|petal_length|petal_width|\n",
            "+-------------+------------+-----------+------------+-----------+\n",
            "|          0.0|         5.1|        3.5|         1.4|        0.2|\n",
            "|          0.0|         4.9|        3.0|         1.4|        0.2|\n",
            "|          0.0|         4.7|        3.2|         1.3|        0.2|\n",
            "|          0.0|         4.6|        3.1|         1.5|        0.2|\n",
            "|          0.0|         5.0|        3.6|         1.4|        0.2|\n",
            "+-------------+------------+-----------+------------+-----------+\n",
            "only showing top 5 rows\n",
            "\n"
          ]
        }
      ]
    },
    {
      "cell_type": "code",
      "source": [
        "input_data=data1.rdd.map(lambda x: (x[0],DenseVector(x[1:])))\n",
        "input_data"
      ],
      "metadata": {
        "id": "tIbDZqu6Hh3p",
        "colab": {
          "base_uri": "https://localhost:8080/"
        },
        "outputId": "e9c3cb8c-7424-410d-e32e-6f31d633afd9"
      },
      "execution_count": 17,
      "outputs": [
        {
          "output_type": "execute_result",
          "data": {
            "text/plain": [
              "PythonRDD[73] at RDD at PythonRDD.scala:53"
            ]
          },
          "metadata": {},
          "execution_count": 17
        }
      ]
    },
    {
      "cell_type": "code",
      "source": [
        "data1_index=spark.createDataFrame(input_data,['label','features'])\n",
        "data1_index.show(5)"
      ],
      "metadata": {
        "id": "-shiw6wiIDMa",
        "colab": {
          "base_uri": "https://localhost:8080/"
        },
        "outputId": "ce48faf5-f7be-4995-edf9-e787c681970f"
      },
      "execution_count": 18,
      "outputs": [
        {
          "output_type": "stream",
          "name": "stdout",
          "text": [
            "+-----+-----------------+\n",
            "|label|         features|\n",
            "+-----+-----------------+\n",
            "|  0.0|[5.1,3.5,1.4,0.2]|\n",
            "|  0.0|[4.9,3.0,1.4,0.2]|\n",
            "|  0.0|[4.7,3.2,1.3,0.2]|\n",
            "|  0.0|[4.6,3.1,1.5,0.2]|\n",
            "|  0.0|[5.0,3.6,1.4,0.2]|\n",
            "+-----+-----------------+\n",
            "only showing top 5 rows\n",
            "\n"
          ]
        }
      ]
    },
    {
      "cell_type": "code",
      "source": [
        "stdScaler=StandardScaler(inputCol='features',outputCol='featured_scaled')\n",
        "scaler=stdScaler.fit(data1_index)\n",
        "data1_scaled=scaler.transform(data1_index)\n",
        "data1_scaled"
      ],
      "metadata": {
        "id": "7kPxCSiSIRdS",
        "colab": {
          "base_uri": "https://localhost:8080/"
        },
        "outputId": "bc06fb37-621a-4b33-9afa-d8d860a11613"
      },
      "execution_count": 19,
      "outputs": [
        {
          "output_type": "execute_result",
          "data": {
            "text/plain": [
              "DataFrame[label: double, features: vector, featured_scaled: vector]"
            ]
          },
          "metadata": {},
          "execution_count": 19
        }
      ]
    },
    {
      "cell_type": "code",
      "source": [
        "data1_scaled=data1_scaled.drop('features')\n",
        "data1_scaled"
      ],
      "metadata": {
        "id": "jy1YlzJQJxS6",
        "colab": {
          "base_uri": "https://localhost:8080/"
        },
        "outputId": "2bfe7e65-342c-4a67-f703-a17d1d53ef36"
      },
      "execution_count": 20,
      "outputs": [
        {
          "output_type": "execute_result",
          "data": {
            "text/plain": [
              "DataFrame[label: double, featured_scaled: vector]"
            ]
          },
          "metadata": {},
          "execution_count": 20
        }
      ]
    },
    {
      "cell_type": "code",
      "source": [
        "# Spliting Data For Train and Test"
      ],
      "metadata": {
        "id": "y3nGDxLfNLKq"
      },
      "execution_count": 21,
      "outputs": []
    },
    {
      "cell_type": "code",
      "source": [
        "train_data,test_data=data1_scaled.randomSplit([0.9,0.1],seed=12345)"
      ],
      "metadata": {
        "id": "-m_YkeOCLiv7"
      },
      "execution_count": 22,
      "outputs": []
    },
    {
      "cell_type": "code",
      "source": [
        "train_data.show(5)"
      ],
      "metadata": {
        "id": "wlV0uvq9L6aS",
        "colab": {
          "base_uri": "https://localhost:8080/"
        },
        "outputId": "32585217-133f-4ba7-8a6a-1afb2fa2a86f"
      },
      "execution_count": 23,
      "outputs": [
        {
          "output_type": "stream",
          "name": "stdout",
          "text": [
            "+-----+--------------------+\n",
            "|label|     featured_scaled|\n",
            "+-----+--------------------+\n",
            "|  0.0|[5.19282199176603...|\n",
            "|  0.0|[5.31358529390013...|\n",
            "|  0.0|[5.31358529390013...|\n",
            "|  0.0|[5.31358529390013...|\n",
            "|  0.0|[5.43434859603422...|\n",
            "+-----+--------------------+\n",
            "only showing top 5 rows\n",
            "\n"
          ]
        }
      ]
    },
    {
      "cell_type": "code",
      "source": [
        "test_data.show(5)"
      ],
      "metadata": {
        "id": "gqMgXi8DL-aq",
        "colab": {
          "base_uri": "https://localhost:8080/"
        },
        "outputId": "2b38d89e-54bf-4fa7-a8c1-ae538160df43"
      },
      "execution_count": 24,
      "outputs": [
        {
          "output_type": "stream",
          "name": "stdout",
          "text": [
            "+-----+--------------------+\n",
            "|label|     featured_scaled|\n",
            "+-----+--------------------+\n",
            "|  0.0|[6.03816510670469...|\n",
            "|  0.0|[6.03816510670469...|\n",
            "|  0.0|[6.27969171097288...|\n",
            "|  0.0|[6.88350822164335...|\n",
            "|  1.0|[5.9174018045706,...|\n",
            "+-----+--------------------+\n",
            "only showing top 5 rows\n",
            "\n"
          ]
        }
      ]
    },
    {
      "cell_type": "code",
      "source": [
        "model=['DecisionTree','RandomForest','Naive Bayes']\n",
        "model_results=[]"
      ],
      "metadata": {
        "id": "XABdq0mlMDnC"
      },
      "execution_count": 25,
      "outputs": []
    },
    {
      "cell_type": "code",
      "source": [
        "dtc=DecisionTreeClassifier(labelCol='label',featuresCol='featured_scaled')\n",
        "dtcmodel=dtc.fit(train_data)\n",
        "dtcpred=dtcmodel.transform(test_data)\n",
        "evaluator=MulticlassClassificationEvaluator(labelCol='label',predictionCol='prediction',metricName='accuracy')\n",
        "dtcacc=evaluator.evaluate(dtcpred)\n",
        "model_results.extend([[model[0],'{:.2%}'.format(dtcacc)]])\n",
        "model_results"
      ],
      "metadata": {
        "id": "iRAhvADTMcdz",
        "colab": {
          "base_uri": "https://localhost:8080/"
        },
        "outputId": "25bc2062-6040-48f8-e673-1706e30c8e02"
      },
      "execution_count": 26,
      "outputs": [
        {
          "output_type": "execute_result",
          "data": {
            "text/plain": [
              "[['DecisionTree', '90.91%']]"
            ]
          },
          "metadata": {},
          "execution_count": 26
        }
      ]
    },
    {
      "cell_type": "code",
      "source": [
        "rfc=RandomForestClassifier(labelCol='label',featuresCol='featured_scaled',numTrees=10)\n",
        "rfcmodel=rfc.fit(train_data)\n",
        "rfcpred=rfcmodel.transform(test_data)\n",
        "evaluator=MulticlassClassificationEvaluator(labelCol='label',predictionCol='prediction',metricName='accuracy')\n",
        "rfcacc=evaluator.evaluate(rfcpred)\n",
        "model_results.extend([[model[1],'{:.2%}'.format(rfcacc)]])\n",
        "model_results"
      ],
      "metadata": {
        "id": "EadDvR9TNQaC",
        "colab": {
          "base_uri": "https://localhost:8080/"
        },
        "outputId": "c473114c-62dd-4891-b5f2-c9e853bdd257"
      },
      "execution_count": 27,
      "outputs": [
        {
          "output_type": "execute_result",
          "data": {
            "text/plain": [
              "[['DecisionTree', '90.91%'], ['RandomForest', '90.91%']]"
            ]
          },
          "metadata": {},
          "execution_count": 27
        }
      ]
    },
    {
      "cell_type": "code",
      "source": [
        "nb=NaiveBayes(labelCol='label',featuresCol='featured_scaled',smoothing=1.0,modelType='multinomial')\n",
        "nbmodel=nb.fit(train_data)\n",
        "nbpred=nbmodel.transform(test_data)\n",
        "evaluator=MulticlassClassificationEvaluator(labelCol='label',predictionCol='prediction',metricName='accuracy')\n",
        "nbacc=evaluator.evaluate(nbpred)\n",
        "model_results.extend([[model[2],'{:2%}'.format(nbacc)]])\n",
        "model_results"
      ],
      "metadata": {
        "id": "VvZLCJVqPPWj"
      },
      "execution_count": null,
      "outputs": []
    },
    {
      "cell_type": "code",
      "source": [
        "gc.collect()"
      ],
      "metadata": {
        "id": "b_bqkJAzQ6-L",
        "colab": {
          "base_uri": "https://localhost:8080/"
        },
        "outputId": "8a1d908e-c305-41aa-e7dc-efc2ba01c50c"
      },
      "execution_count": 28,
      "outputs": [
        {
          "output_type": "execute_result",
          "data": {
            "text/plain": [
              "145"
            ]
          },
          "metadata": {},
          "execution_count": 28
        }
      ]
    },
    {
      "cell_type": "code",
      "source": [],
      "metadata": {
        "id": "V2OtIe-VRJYs"
      },
      "execution_count": null,
      "outputs": []
    }
  ]
}