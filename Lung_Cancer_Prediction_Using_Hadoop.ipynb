{
  "nbformat": 4,
  "nbformat_minor": 0,
  "metadata": {
    "colab": {
      "provenance": []
    },
    "kernelspec": {
      "name": "python3",
      "display_name": "Python 3"
    },
    "language_info": {
      "name": "python"
    }
  },
  "cells": [
    {
      "cell_type": "code",
      "source": [
        "pip install pyspark --quiet"
      ],
      "metadata": {
        "id": "y5od5SNzOQxN"
      },
      "execution_count": 14,
      "outputs": []
    },
    {
      "cell_type": "code",
      "execution_count": 15,
      "metadata": {
        "id": "exgCsAHcNh_Q"
      },
      "outputs": [],
      "source": [
        "import numpy as np\n",
        "import pandas as pd\n",
        "import pyspark"
      ]
    },
    {
      "cell_type": "code",
      "source": [
        "from sklearn.model_selection import train_test_split\n",
        "from pyspark.sql import SparkSession\n",
        "from pyspark.ml.classification import DecisionTreeClassifier,RandomForestClassifier,NaiveBayes\n",
        "from pyspark.ml.evaluation import MulticlassClassificationEvaluator\n",
        "from pyspark.ml.feature import StringIndexer,StandardScaler,VectorAssembler,VectorIndexer\n",
        "from pyspark.ml.linalg import DenseVector\n",
        "from pyspark.sql.functions import count,when,col\n",
        "from pyspark.sql import functions as F"
      ],
      "metadata": {
        "id": "2XdF2DodOE7I"
      },
      "execution_count": 16,
      "outputs": []
    },
    {
      "cell_type": "code",
      "source": [
        "spark=(SparkSession.builder\n",
        "       .appName('Apache Spark')\n",
        "       .config('Spark.executor.memory','1G')\n",
        "       .config('Spark.executor.cores','4')\n",
        "       .getOrCreate())\n",
        "spark"
      ],
      "metadata": {
        "colab": {
          "base_uri": "https://localhost:8080/",
          "height": 221
        },
        "id": "xYS55jsrPakN",
        "outputId": "b879de62-ce84-4d9e-e85b-ebf2ee1bdfdc"
      },
      "execution_count": 17,
      "outputs": [
        {
          "output_type": "execute_result",
          "data": {
            "text/plain": [
              "<pyspark.sql.session.SparkSession at 0x7f56acee87c0>"
            ],
            "text/html": [
              "\n",
              "            <div>\n",
              "                <p><b>SparkSession - in-memory</b></p>\n",
              "                \n",
              "        <div>\n",
              "            <p><b>SparkContext</b></p>\n",
              "\n",
              "            <p><a href=\"http://76a1ec5235e2:4040\">Spark UI</a></p>\n",
              "\n",
              "            <dl>\n",
              "              <dt>Version</dt>\n",
              "                <dd><code>v3.5.1</code></dd>\n",
              "              <dt>Master</dt>\n",
              "                <dd><code>local[*]</code></dd>\n",
              "              <dt>AppName</dt>\n",
              "                <dd><code>Apache Spark</code></dd>\n",
              "            </dl>\n",
              "        </div>\n",
              "        \n",
              "            </div>\n",
              "        "
            ]
          },
          "metadata": {},
          "execution_count": 17
        }
      ]
    },
    {
      "cell_type": "code",
      "source": [
        "url=('/content/drive/MyDrive/survey lung cancer.csv')\n",
        "data=spark.read.format('csv')\\\n",
        "      .option('header','true')\\\n",
        "      .option('inferSchema','true')\\\n",
        "      .load(url)\n",
        "data.cache()"
      ],
      "metadata": {
        "colab": {
          "base_uri": "https://localhost:8080/"
        },
        "id": "gssLjre-QpUK",
        "outputId": "07bfcbdb-f660-4c90-91d5-2d62803a6e7c"
      },
      "execution_count": 18,
      "outputs": [
        {
          "output_type": "execute_result",
          "data": {
            "text/plain": [
              "DataFrame[GENDER: string, AGE: int, SMOKING: int, YELLOW_FINGERS: int, ANXIETY: int, PEER_PRESSURE: int, CHRONIC DISEASE: int, FATIGUE : int, ALLERGY : int, WHEEZING: int, ALCOHOL CONSUMING: int, COUGHING: int, SHORTNESS OF BREATH: int, SWALLOWING DIFFICULTY: int, CHEST PAIN: int, LUNG_CANCER: string]"
            ]
          },
          "metadata": {},
          "execution_count": 18
        }
      ]
    },
    {
      "cell_type": "code",
      "source": [
        "data.show(5)"
      ],
      "metadata": {
        "colab": {
          "base_uri": "https://localhost:8080/"
        },
        "id": "QbZBogQRRMEU",
        "outputId": "41c170d9-f71b-4c69-eb40-1b4b2ab17660"
      },
      "execution_count": 19,
      "outputs": [
        {
          "output_type": "stream",
          "name": "stdout",
          "text": [
            "+------+---+-------+--------------+-------+-------------+---------------+--------+--------+--------+-----------------+--------+-------------------+---------------------+----------+-----------+\n",
            "|GENDER|AGE|SMOKING|YELLOW_FINGERS|ANXIETY|PEER_PRESSURE|CHRONIC DISEASE|FATIGUE |ALLERGY |WHEEZING|ALCOHOL CONSUMING|COUGHING|SHORTNESS OF BREATH|SWALLOWING DIFFICULTY|CHEST PAIN|LUNG_CANCER|\n",
            "+------+---+-------+--------------+-------+-------------+---------------+--------+--------+--------+-----------------+--------+-------------------+---------------------+----------+-----------+\n",
            "|     M| 69|      1|             2|      2|            1|              1|       2|       1|       2|                2|       2|                  2|                    2|         2|        YES|\n",
            "|     M| 74|      2|             1|      1|            1|              2|       2|       2|       1|                1|       1|                  2|                    2|         2|        YES|\n",
            "|     F| 59|      1|             1|      1|            2|              1|       2|       1|       2|                1|       2|                  2|                    1|         2|         NO|\n",
            "|     M| 63|      2|             2|      2|            1|              1|       1|       1|       1|                2|       1|                  1|                    2|         2|         NO|\n",
            "|     F| 63|      1|             2|      1|            1|              1|       1|       1|       2|                1|       2|                  2|                    1|         1|         NO|\n",
            "+------+---+-------+--------------+-------+-------------+---------------+--------+--------+--------+-----------------+--------+-------------------+---------------------+----------+-----------+\n",
            "only showing top 5 rows\n",
            "\n"
          ]
        }
      ]
    },
    {
      "cell_type": "code",
      "source": [
        "data.head(5)"
      ],
      "metadata": {
        "colab": {
          "base_uri": "https://localhost:8080/"
        },
        "id": "13vXF4NHReVg",
        "outputId": "8fa51249-9126-4029-93c4-61ab68114bf9"
      },
      "execution_count": 20,
      "outputs": [
        {
          "output_type": "execute_result",
          "data": {
            "text/plain": [
              "[Row(GENDER='M', AGE=69, SMOKING=1, YELLOW_FINGERS=2, ANXIETY=2, PEER_PRESSURE=1, CHRONIC DISEASE=1, FATIGUE =2, ALLERGY =1, WHEEZING=2, ALCOHOL CONSUMING=2, COUGHING=2, SHORTNESS OF BREATH=2, SWALLOWING DIFFICULTY=2, CHEST PAIN=2, LUNG_CANCER='YES'),\n",
              " Row(GENDER='M', AGE=74, SMOKING=2, YELLOW_FINGERS=1, ANXIETY=1, PEER_PRESSURE=1, CHRONIC DISEASE=2, FATIGUE =2, ALLERGY =2, WHEEZING=1, ALCOHOL CONSUMING=1, COUGHING=1, SHORTNESS OF BREATH=2, SWALLOWING DIFFICULTY=2, CHEST PAIN=2, LUNG_CANCER='YES'),\n",
              " Row(GENDER='F', AGE=59, SMOKING=1, YELLOW_FINGERS=1, ANXIETY=1, PEER_PRESSURE=2, CHRONIC DISEASE=1, FATIGUE =2, ALLERGY =1, WHEEZING=2, ALCOHOL CONSUMING=1, COUGHING=2, SHORTNESS OF BREATH=2, SWALLOWING DIFFICULTY=1, CHEST PAIN=2, LUNG_CANCER='NO'),\n",
              " Row(GENDER='M', AGE=63, SMOKING=2, YELLOW_FINGERS=2, ANXIETY=2, PEER_PRESSURE=1, CHRONIC DISEASE=1, FATIGUE =1, ALLERGY =1, WHEEZING=1, ALCOHOL CONSUMING=2, COUGHING=1, SHORTNESS OF BREATH=1, SWALLOWING DIFFICULTY=2, CHEST PAIN=2, LUNG_CANCER='NO'),\n",
              " Row(GENDER='F', AGE=63, SMOKING=1, YELLOW_FINGERS=2, ANXIETY=1, PEER_PRESSURE=1, CHRONIC DISEASE=1, FATIGUE =1, ALLERGY =1, WHEEZING=2, ALCOHOL CONSUMING=1, COUGHING=2, SHORTNESS OF BREATH=2, SWALLOWING DIFFICULTY=1, CHEST PAIN=1, LUNG_CANCER='NO')]"
            ]
          },
          "metadata": {},
          "execution_count": 20
        }
      ]
    },
    {
      "cell_type": "code",
      "source": [
        "data.printSchema()"
      ],
      "metadata": {
        "colab": {
          "base_uri": "https://localhost:8080/"
        },
        "id": "NHpZ-rl7SbgH",
        "outputId": "2a97f351-f047-405d-8b54-2302529b4f21"
      },
      "execution_count": 21,
      "outputs": [
        {
          "output_type": "stream",
          "name": "stdout",
          "text": [
            "root\n",
            " |-- GENDER: string (nullable = true)\n",
            " |-- AGE: integer (nullable = true)\n",
            " |-- SMOKING: integer (nullable = true)\n",
            " |-- YELLOW_FINGERS: integer (nullable = true)\n",
            " |-- ANXIETY: integer (nullable = true)\n",
            " |-- PEER_PRESSURE: integer (nullable = true)\n",
            " |-- CHRONIC DISEASE: integer (nullable = true)\n",
            " |-- FATIGUE : integer (nullable = true)\n",
            " |-- ALLERGY : integer (nullable = true)\n",
            " |-- WHEEZING: integer (nullable = true)\n",
            " |-- ALCOHOL CONSUMING: integer (nullable = true)\n",
            " |-- COUGHING: integer (nullable = true)\n",
            " |-- SHORTNESS OF BREATH: integer (nullable = true)\n",
            " |-- SWALLOWING DIFFICULTY: integer (nullable = true)\n",
            " |-- CHEST PAIN: integer (nullable = true)\n",
            " |-- LUNG_CANCER: string (nullable = true)\n",
            "\n"
          ]
        }
      ]
    },
    {
      "cell_type": "code",
      "source": [
        "data.select([F.count(F.when(F.col(c).isNull(), c)).alias(c) for c in data.columns]).show()"
      ],
      "metadata": {
        "colab": {
          "base_uri": "https://localhost:8080/"
        },
        "id": "K_Dm7B9TTN2-",
        "outputId": "37c44714-6e5f-404b-ece0-e86846516002"
      },
      "execution_count": 22,
      "outputs": [
        {
          "output_type": "stream",
          "name": "stdout",
          "text": [
            "+------+---+-------+--------------+-------+-------------+---------------+--------+--------+--------+-----------------+--------+-------------------+---------------------+----------+-----------+\n",
            "|GENDER|AGE|SMOKING|YELLOW_FINGERS|ANXIETY|PEER_PRESSURE|CHRONIC DISEASE|FATIGUE |ALLERGY |WHEEZING|ALCOHOL CONSUMING|COUGHING|SHORTNESS OF BREATH|SWALLOWING DIFFICULTY|CHEST PAIN|LUNG_CANCER|\n",
            "+------+---+-------+--------------+-------+-------------+---------------+--------+--------+--------+-----------------+--------+-------------------+---------------------+----------+-----------+\n",
            "|     0|  0|      0|             0|      0|            0|              0|       0|       0|       0|                0|       0|                  0|                    0|         0|          0|\n",
            "+------+---+-------+--------------+-------+-------------+---------------+--------+--------+--------+-----------------+--------+-------------------+---------------------+----------+-----------+\n",
            "\n"
          ]
        }
      ]
    },
    {
      "cell_type": "code",
      "source": [
        "sindex=StringIndexer(inputCol='LUNG_CANCER',outputCol='LUNG_CANCER_STAGE')\n",
        "data=sindex.fit(data).transform(data)\n",
        "data.show(5)"
      ],
      "metadata": {
        "colab": {
          "base_uri": "https://localhost:8080/"
        },
        "id": "Q7IH32wKT-TB",
        "outputId": "8ef4e4f7-5a37-459a-f75e-c39a02575328"
      },
      "execution_count": 23,
      "outputs": [
        {
          "output_type": "stream",
          "name": "stdout",
          "text": [
            "+------+---+-------+--------------+-------+-------------+---------------+--------+--------+--------+-----------------+--------+-------------------+---------------------+----------+-----------+-----------------+\n",
            "|GENDER|AGE|SMOKING|YELLOW_FINGERS|ANXIETY|PEER_PRESSURE|CHRONIC DISEASE|FATIGUE |ALLERGY |WHEEZING|ALCOHOL CONSUMING|COUGHING|SHORTNESS OF BREATH|SWALLOWING DIFFICULTY|CHEST PAIN|LUNG_CANCER|LUNG_CANCER_STAGE|\n",
            "+------+---+-------+--------------+-------+-------------+---------------+--------+--------+--------+-----------------+--------+-------------------+---------------------+----------+-----------+-----------------+\n",
            "|     M| 69|      1|             2|      2|            1|              1|       2|       1|       2|                2|       2|                  2|                    2|         2|        YES|              0.0|\n",
            "|     M| 74|      2|             1|      1|            1|              2|       2|       2|       1|                1|       1|                  2|                    2|         2|        YES|              0.0|\n",
            "|     F| 59|      1|             1|      1|            2|              1|       2|       1|       2|                1|       2|                  2|                    1|         2|         NO|              1.0|\n",
            "|     M| 63|      2|             2|      2|            1|              1|       1|       1|       1|                2|       1|                  1|                    2|         2|         NO|              1.0|\n",
            "|     F| 63|      1|             2|      1|            1|              1|       1|       1|       2|                1|       2|                  2|                    1|         1|         NO|              1.0|\n",
            "+------+---+-------+--------------+-------+-------------+---------------+--------+--------+--------+-----------------+--------+-------------------+---------------------+----------+-----------+-----------------+\n",
            "only showing top 5 rows\n",
            "\n"
          ]
        }
      ]
    },
    {
      "cell_type": "code",
      "source": [
        "data1=data.select('FATIGUE ','ALLERGY ','AGE','SMOKING','YELLOW_FINGERS','ANXIETY','PEER_PRESSURE','CHRONIC DISEASE','WHEEZING','ALCOHOL CONSUMING','COUGHING','SHORTNESS OF BREATH','SWALLOWING DIFFICULTY','CHEST PAIN')\n",
        "data1.show(5)"
      ],
      "metadata": {
        "colab": {
          "base_uri": "https://localhost:8080/"
        },
        "id": "55dgV6cnY6p8",
        "outputId": "1dd90f1f-e8ad-49d3-f50e-99218598d661"
      },
      "execution_count": 24,
      "outputs": [
        {
          "output_type": "stream",
          "name": "stdout",
          "text": [
            "+--------+--------+---+-------+--------------+-------+-------------+---------------+--------+-----------------+--------+-------------------+---------------------+----------+\n",
            "|FATIGUE |ALLERGY |AGE|SMOKING|YELLOW_FINGERS|ANXIETY|PEER_PRESSURE|CHRONIC DISEASE|WHEEZING|ALCOHOL CONSUMING|COUGHING|SHORTNESS OF BREATH|SWALLOWING DIFFICULTY|CHEST PAIN|\n",
            "+--------+--------+---+-------+--------------+-------+-------------+---------------+--------+-----------------+--------+-------------------+---------------------+----------+\n",
            "|       2|       1| 69|      1|             2|      2|            1|              1|       2|                2|       2|                  2|                    2|         2|\n",
            "|       2|       2| 74|      2|             1|      1|            1|              2|       1|                1|       1|                  2|                    2|         2|\n",
            "|       2|       1| 59|      1|             1|      1|            2|              1|       2|                1|       2|                  2|                    1|         2|\n",
            "|       1|       1| 63|      2|             2|      2|            1|              1|       1|                2|       1|                  1|                    2|         2|\n",
            "|       1|       1| 63|      1|             2|      1|            1|              1|       2|                1|       2|                  2|                    1|         1|\n",
            "+--------+--------+---+-------+--------------+-------+-------------+---------------+--------+-----------------+--------+-------------------+---------------------+----------+\n",
            "only showing top 5 rows\n",
            "\n"
          ]
        }
      ]
    },
    {
      "cell_type": "code",
      "source": [
        "input_data=data1.rdd.map(lambda x:(x[0],DenseVector(x[1:])))\n",
        "input_data"
      ],
      "metadata": {
        "colab": {
          "base_uri": "https://localhost:8080/"
        },
        "id": "H96jOJUjY7S4",
        "outputId": "f67a3d6e-9552-4d09-e595-ba697f995b51"
      },
      "execution_count": 25,
      "outputs": [
        {
          "output_type": "execute_result",
          "data": {
            "text/plain": [
              "PythonRDD[74] at RDD at PythonRDD.scala:53"
            ]
          },
          "metadata": {},
          "execution_count": 25
        }
      ]
    },
    {
      "cell_type": "code",
      "source": [
        "data1_index=spark.createDataFrame(input_data,['label','features'])\n",
        "data1_index.show(5)"
      ],
      "metadata": {
        "colab": {
          "base_uri": "https://localhost:8080/"
        },
        "id": "foiXxsOCcRIO",
        "outputId": "c2a3cdad-d48c-4285-a7e8-b4eb6759091d"
      },
      "execution_count": 26,
      "outputs": [
        {
          "output_type": "stream",
          "name": "stdout",
          "text": [
            "+-----+--------------------+\n",
            "|label|            features|\n",
            "+-----+--------------------+\n",
            "|    2|[1.0,69.0,1.0,2.0...|\n",
            "|    2|[2.0,74.0,2.0,1.0...|\n",
            "|    2|[1.0,59.0,1.0,1.0...|\n",
            "|    1|[1.0,63.0,2.0,2.0...|\n",
            "|    1|[1.0,63.0,1.0,2.0...|\n",
            "+-----+--------------------+\n",
            "only showing top 5 rows\n",
            "\n"
          ]
        }
      ]
    },
    {
      "cell_type": "code",
      "source": [
        "stdscale=StandardScaler(inputCol='features',outputCol='featured_scaled')\n",
        "scaler=stdscale.fit(data1_index)\n",
        "data1_scale=scaler.transform(data1_index)\n",
        "data1_scale"
      ],
      "metadata": {
        "colab": {
          "base_uri": "https://localhost:8080/"
        },
        "id": "zZLdsXiwcipX",
        "outputId": "d833819a-4e16-4e08-ab51-d5144a1dba20"
      },
      "execution_count": 27,
      "outputs": [
        {
          "output_type": "execute_result",
          "data": {
            "text/plain": [
              "DataFrame[label: bigint, features: vector, featured_scaled: vector]"
            ]
          },
          "metadata": {},
          "execution_count": 27
        }
      ]
    },
    {
      "cell_type": "code",
      "source": [
        "data1_scale=data1_scale.drop('features')\n",
        "data1_scale"
      ],
      "metadata": {
        "colab": {
          "base_uri": "https://localhost:8080/"
        },
        "id": "II2Qc-GEfPWk",
        "outputId": "40a6cceb-4b30-47d3-eb01-7e0779b43e18"
      },
      "execution_count": 28,
      "outputs": [
        {
          "output_type": "execute_result",
          "data": {
            "text/plain": [
              "DataFrame[label: bigint, featured_scaled: vector]"
            ]
          },
          "metadata": {},
          "execution_count": 28
        }
      ]
    },
    {
      "cell_type": "code",
      "source": [
        "train_data,test_data=data1_scale.randomSplit([0.9,0.1],seed=12345)"
      ],
      "metadata": {
        "id": "2aH_t65qfnsP"
      },
      "execution_count": 29,
      "outputs": []
    },
    {
      "cell_type": "code",
      "source": [
        "train_data.show(5)"
      ],
      "metadata": {
        "colab": {
          "base_uri": "https://localhost:8080/"
        },
        "id": "MkSOfI2Zfzbs",
        "outputId": "8c86f323-6a43-4c1b-ac46-eeeceab5dca2"
      },
      "execution_count": 30,
      "outputs": [
        {
          "output_type": "stream",
          "name": "stdout",
          "text": [
            "+-----+--------------------+\n",
            "|label|     featured_scaled|\n",
            "+-----+--------------------+\n",
            "|    1|[2.00969471733901...|\n",
            "|    1|[2.00969471733901...|\n",
            "|    1|[2.00969471733901...|\n",
            "|    1|[2.00969471733901...|\n",
            "|    1|[2.00969471733901...|\n",
            "+-----+--------------------+\n",
            "only showing top 5 rows\n",
            "\n"
          ]
        }
      ]
    },
    {
      "cell_type": "code",
      "source": [
        "test_data.show(5)"
      ],
      "metadata": {
        "colab": {
          "base_uri": "https://localhost:8080/"
        },
        "id": "G2b-n6Rmf3sq",
        "outputId": "34855be1-7c0d-4a97-f310-e147a24ebe9d"
      },
      "execution_count": 31,
      "outputs": [
        {
          "output_type": "stream",
          "name": "stdout",
          "text": [
            "+-----+--------------------+\n",
            "|label|     featured_scaled|\n",
            "+-----+--------------------+\n",
            "|    1|[2.00969471733901...|\n",
            "|    1|[2.00969471733901...|\n",
            "|    1|[2.00969471733901...|\n",
            "|    1|[4.01938943467803...|\n",
            "|    1|[4.01938943467803...|\n",
            "+-----+--------------------+\n",
            "only showing top 5 rows\n",
            "\n"
          ]
        }
      ]
    },
    {
      "cell_type": "code",
      "source": [
        "model=['DecisionTree','RandomForest','Linear SVM']\n",
        "model_results=[]"
      ],
      "metadata": {
        "id": "wJ56HnukgYj7"
      },
      "execution_count": 32,
      "outputs": []
    },
    {
      "cell_type": "code",
      "source": [
        "dtc=DecisionTreeClassifier(labelCol='label',featuresCol='featured_scaled')\n",
        "dtcmodel=dtc.fit(train_data)\n",
        "dtcpred=dtcmodel.transform(test_data)\n",
        "evaluator=MulticlassClassificationEvaluator(labelCol='label',predictionCol='prediction',metricName='accuracy')\n",
        "dtcacc=evaluator.evaluate(dtcpred)\n",
        "model_results.extend([[model[0],'{:.2%}'.format(dtcacc)]])\n",
        "model_results"
      ],
      "metadata": {
        "colab": {
          "base_uri": "https://localhost:8080/"
        },
        "id": "RtXF5bGHf9T2",
        "outputId": "a74d5690-4c43-4ad0-ed9e-713ad97f199d"
      },
      "execution_count": 33,
      "outputs": [
        {
          "output_type": "execute_result",
          "data": {
            "text/plain": [
              "[['DecisionTree', '73.68%']]"
            ]
          },
          "metadata": {},
          "execution_count": 33
        }
      ]
    },
    {
      "cell_type": "code",
      "source": [
        "rf=RandomForestClassifier(labelCol='label',featuresCol='featured_scaled',numTrees=10)\n",
        "rfcmodel=rf.fit(train_data)\n",
        "rfcpred=rfcmodel.transform(test_data)\n",
        "evaluator=MulticlassClassificationEvaluator(labelCol='label',predictionCol='prediction',metricName='accuracy')\n",
        "rfcacc=evaluator.evaluate(rfcpred)\n",
        "model_results.extend([[model[1],'{:.2%}'.format(rfcacc)]])\n",
        "model_results"
      ],
      "metadata": {
        "colab": {
          "base_uri": "https://localhost:8080/"
        },
        "id": "BH-lD5_CgjtD",
        "outputId": "f5b22f54-7022-4f9a-bda7-63a6cf5144a4"
      },
      "execution_count": 34,
      "outputs": [
        {
          "output_type": "execute_result",
          "data": {
            "text/plain": [
              "[['DecisionTree', '73.68%'], ['RandomForest', '78.95%']]"
            ]
          },
          "metadata": {},
          "execution_count": 34
        }
      ]
    },
    {
      "cell_type": "code",
      "source": [
        "naive=NaiveBayes(labelCol='label',featuresCol='featured_scaled',smoothing=1.0,modelType='multinomial')\n",
        "nbmodel=naive.fit(train_data)\n",
        "nbpred=nbmodel.transform(test_data)\n",
        "evaluator=MulticlassClassificationEvaluator(labelCol='label',predictionCol='prediction',metricName='accuracy')\n",
        "nbacc=evaluator.evaluate(nbpred)\n",
        "model_results.extend([[model[2],'{:2%}'.format(nbacc)]])\n",
        "model_results"
      ],
      "metadata": {
        "colab": {
          "base_uri": "https://localhost:8080/"
        },
        "id": "2hxISRb6h0kT",
        "outputId": "9f556330-a9e6-4d98-cb30-6fecc606f5f7"
      },
      "execution_count": 35,
      "outputs": [
        {
          "output_type": "execute_result",
          "data": {
            "text/plain": [
              "[['DecisionTree', '73.68%'],\n",
              " ['RandomForest', '78.95%'],\n",
              " ['Linear SVM', '31.578947%']]"
            ]
          },
          "metadata": {},
          "execution_count": 35
        }
      ]
    },
    {
      "cell_type": "code",
      "source": [
        "from pyspark.ml.linalg import Vectors\n",
        "\n",
        "# Create a SparkSession\n",
        "spark=SparkSession.builder\\\n",
        "    .appName(\"NaiveBayesExample\")\\\n",
        "    .getOrCreate()\n",
        "\n",
        "# Load training data\n",
        "data=spark.createDataFrame([\n",
        "    (0.0, Vectors.dense([2,1,69,1,2,2,1,1,2,2,2,2,2,2])),\n",
        "],[\"label\",\"featured_scaled\"])\n",
        "\n",
        "# Train a Randomforest model\n",
        "model=rf.fit(data)\n",
        "\n",
        "# Make predictions on new data\n",
        "new_data=spark.createDataFrame([\n",
        "    (Vectors.dense([2,1,69,1,2,2,1,1,2,2,2,2,2,2]),),\n",
        "], [\"featured_scaled\"])\n",
        "\n",
        "prediction=model.transform(new_data)\n",
        "\n",
        "# Show the prediction result\n",
        "prediction.show()\n",
        "\n"
      ],
      "metadata": {
        "colab": {
          "base_uri": "https://localhost:8080/"
        },
        "id": "uxWBqot9lTof",
        "outputId": "aad30ca5-0397-4bb6-e3ca-aa7d4348259d"
      },
      "execution_count": 42,
      "outputs": [
        {
          "output_type": "stream",
          "name": "stdout",
          "text": [
            "+--------------------+-------------+-----------+----------+\n",
            "|     featured_scaled|rawPrediction|probability|prediction|\n",
            "+--------------------+-------------+-----------+----------+\n",
            "|[2.0,1.0,69.0,1.0...|        [7.0]|      [1.0]|       0.0|\n",
            "+--------------------+-------------+-----------+----------+\n",
            "\n"
          ]
        }
      ]
    },
    {
      "cell_type": "code",
      "source": [],
      "metadata": {
        "id": "im8jT3_GldiF"
      },
      "execution_count": 36,
      "outputs": []
    }
  ]
}